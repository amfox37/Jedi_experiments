{
 "cells": [
  {
   "cell_type": "code",
   "execution_count": 1,
   "id": "31774cff",
   "metadata": {},
   "outputs": [],
   "source": [
    "import cartopy.crs as ccrs\n",
    "import cartopy\n",
    "import datetime as dt\n",
    "import glob\n",
    "import matplotlib\n",
    "import matplotlib.pyplot as plt\n",
    "import matplotlib.ticker as mticker\n",
    "import netCDF4\n",
    "import numpy as np\n",
    "import os\n",
    "import imageio\n",
    "import glob\n",
    "from datetime import datetime, timedelta"
   ]
  },
  {
   "cell_type": "code",
   "execution_count": 2,
   "id": "16fc5187",
   "metadata": {},
   "outputs": [],
   "source": [
    "exp_dir = '/glade/u/home/afox/work/jedi/Jedi_experiments/workflow/expts/strict_QC_CO'"
   ]
  },
  {
   "cell_type": "code",
   "execution_count": 3,
   "id": "ae4a8b30",
   "metadata": {},
   "outputs": [
    {
     "name": "stdout",
     "output_type": "stream",
     "text": [
      "2021-03-01T00:00:00 2021-03-02T00:00:00\n",
      "omeanb =  0.68  omeana =  0.19\n",
      "2021-03-02T00:00:00 2021-03-03T00:00:00\n",
      "omeanb =  0.21  omeana =  0.18\n",
      "2021-03-03T00:00:00 2021-03-04T00:00:00\n",
      "omeanb =  0.18  omeana =  0.17\n",
      "2021-03-04T00:00:00 2021-03-05T00:00:00\n"
     ]
    },
    {
     "name": "stderr",
     "output_type": "stream",
     "text": [
      "/glade/u/home/afox/.conda/envs/xr/lib/python3.7/site-packages/ipykernel_launcher.py:74: UserWarning: Warning: converting a masked element to nan.\n",
      "/glade/u/home/afox/.conda/envs/xr/lib/python3.7/site-packages/ipykernel_launcher.py:74: RuntimeWarning: invalid value encountered in less\n",
      "<string>:6: UserWarning: Warning: converting a masked element to nan.\n",
      "/glade/u/home/afox/.conda/envs/xr/lib/python3.7/site-packages/ipykernel_launcher.py:83: UserWarning: Warning: converting a masked element to nan.\n"
     ]
    },
    {
     "name": "stdout",
     "output_type": "stream",
     "text": [
      "omeanb =  0.19  omeana =  0.18\n",
      "2021-03-05T00:00:00 2021-03-06T00:00:00\n",
      "omeanb =  0.20  omeana =  0.19\n",
      "2021-03-06T00:00:00 2021-03-07T00:00:00\n",
      "omeanb =  0.18  omeana =  0.17\n",
      "2021-03-07T00:00:00 2021-03-08T00:00:00\n",
      "omeanb =  0.18  omeana =  0.18\n",
      "2021-03-08T00:00:00 2021-03-09T00:00:00\n",
      "omeanb =  0.18  omeana =  0.17\n",
      "2021-03-09T00:00:00 2021-03-10T00:00:00\n",
      "omeanb =  0.16  omeana =  0.16\n",
      "2021-03-10T00:00:00 2021-03-11T00:00:00\n",
      "omeanb =  0.19  omeana =  0.16\n",
      "2021-03-11T00:00:00 2021-03-12T00:00:00\n",
      "omeanb =  0.18  omeana =  0.17\n",
      "2021-03-12T00:00:00 2021-03-13T00:00:00\n",
      "omeanb =  0.17  omeana =  0.17\n",
      "2021-03-13T00:00:00 2021-03-14T00:00:00\n",
      "omeanb =  0.16  omeana =  0.16\n",
      "2021-03-14T00:00:00 2021-03-15T00:00:00\n",
      "omeanb =  0.22  omeana =  0.17\n",
      "2021-03-15T00:00:00 2021-03-16T00:00:00\n",
      "omeanb =  0.21  omeana =  0.17\n",
      "2021-03-16T00:00:00 2021-03-17T00:00:00\n",
      "omeanb =  0.18  omeana =  0.17\n",
      "2021-03-17T00:00:00 2021-03-18T00:00:00\n",
      "omeanb =  0.21  omeana =  0.19\n",
      "2021-03-18T00:00:00 2021-03-19T00:00:00\n",
      "omeanb =  0.18  omeana =  0.17\n",
      "2021-03-19T00:00:00 2021-03-20T00:00:00\n",
      "omeanb =  0.17  omeana =  0.16\n",
      "2021-03-20T00:00:00 2021-03-21T00:00:00\n",
      "omeanb =  0.17  omeana =  0.17\n",
      "2021-03-21T00:00:00 2021-03-22T00:00:00\n",
      "omeanb =  0.20  omeana =  0.18\n",
      "2021-03-22T00:00:00 2021-03-23T00:00:00\n",
      "omeanb =  0.18  omeana =  0.17\n",
      "2021-03-23T00:00:00 2021-03-24T00:00:00\n",
      "omeanb =  0.18  omeana =  0.17\n",
      "2021-03-24T00:00:00 2021-03-25T00:00:00\n",
      "omeanb =  0.19  omeana =  0.17\n",
      "2021-03-25T00:00:00 2021-03-26T00:00:00\n",
      "omeanb =  0.18  omeana =  0.17\n",
      "2021-03-26T00:00:00 2021-03-27T00:00:00\n",
      "omeanb =  0.17  omeana =  0.16\n",
      "2021-03-27T00:00:00 2021-03-28T00:00:00\n",
      "omeanb =  0.20  omeana =  0.18\n"
     ]
    }
   ],
   "source": [
    "\n",
    "omean_ana = []\n",
    "omean_bg = []\n",
    "# t_out = np.empty((15), dtype='datetime64[s]')\n",
    "t_out = []\n",
    "num_poss = []\n",
    "num_used = []\n",
    "\n",
    "for day in range (1, 28):\n",
    "    x = datetime(2021, 2, 28)\n",
    "    delta_day = timedelta(days=+day)\n",
    "    x = x + delta_day\n",
    "    startday = x.strftime(\"%Y-%m-%dT%H:%M:%S\")\n",
    "    y = x + timedelta(days=+1)\n",
    "    endday = y.strftime(\"%Y-%m-%dT%H:%M:%S\")\n",
    "\n",
    "    print(startday, endday)\n",
    "\n",
    "    hofx_file = os.path.join(exp_dir + '/' + 'jedi_letkf_out_obs_depth_'+startday+'Z_0000.nc')\n",
    "    mydatetime = startday\n",
    "    window_begin = startday\n",
    "    window_end = endday\n",
    "    metric = 'oman' #'ObsValue'\n",
    "    field = 'snow_depth'\n",
    "    units = 'm'\n",
    "    output_path = './figures/'\n",
    "    plotformat = 'png'\n",
    "\n",
    "    colmin = -0.6 #None\n",
    "    colmax = 0.6 #None\n",
    "\n",
    "    odat = []\n",
    "    odat2= []\n",
    "    lons = []\n",
    "    lats = []\n",
    "    time = []\n",
    "    odat3= []\n",
    "    odat4= []\n",
    "\n",
    "# Message file being read\n",
    "#    print(\" Reading \"+hofx_file)\n",
    "\n",
    "# Open the file\n",
    "    fh = netCDF4.Dataset(hofx_file)\n",
    "\n",
    "   # if metric=='omb':\n",
    "   #     odat_proc = fh.groups['ObsValue'].variables[field][:] - fh.groups['hofx'].variables[field][:]\n",
    "   # else:\n",
    "    odat_proc = fh.groups['ombg'].variables[field][:]\n",
    "    odat_proc2 = fh.groups['oman'].variables[field][:]\n",
    "    odat_proc3 = fh.groups['EffectiveQC1'].variables[field][:]\n",
    "    odat_proc4 = fh.groups['ObsValue'].variables[field][:]\n",
    "\n",
    "# Read metadata\n",
    "    lons_proc = fh.groups['MetaData'].variables['longitude'][:]\n",
    "    lats_proc = fh.groups['MetaData'].variables['latitude'][:]\n",
    "    time_proc = fh.groups['MetaData'].variables['dateTime'][:]\n",
    "\n",
    "    for m in range(len(odat_proc)):\n",
    "        odat.append(odat_proc[m])\n",
    "        odat2.append(odat_proc2[m])\n",
    "        odat3.append(odat_proc3[m])\n",
    "        odat4.append(odat_proc4[m])\n",
    "        lons.append(lons_proc[m])\n",
    "        lats.append(lats_proc[m])\n",
    "        time.append(time_proc[m])\n",
    "\n",
    "    fh.close()\n",
    "# Figure filename\n",
    "# ---------------\n",
    "    field_savename = field\n",
    "\n",
    "    savename = os.path.join(output_path, field_savename+\"_\"+metric+\"_\"+mydatetime+\".\"+plotformat)\n",
    "\n",
    "# Set missing values to nans\n",
    "    missing = 9.0e+30\n",
    "    odat = np.where(np.abs(odat) < missing, odat, float(\"NaN\"))\n",
    "   \n",
    "    numobs = len(odat)\n",
    "\n",
    "    obarray = np.empty([numobs, 6])\n",
    "\n",
    "    obarray[:, 0] = lons\n",
    "    obarray[:, 1] = lats\n",
    "    obarray[:, 2] = odat\n",
    "    obarray[:, 3] = odat2\n",
    "    obarray[:, 4] = odat3\n",
    "    obarray[:, 5] = odat4\n",
    "\n",
    "# Exclude observations north of 50 degrees latitude\n",
    "    obarray = obarray[obarray[:,1]<41.0]\n",
    "    obarray = obarray[obarray[:,1]>37.0]\n",
    "    obarray = obarray[obarray[:,0]<-103.5]\n",
    "    obarray = obarray[obarray[:,0]>-109.4]\n",
    "    goodQC = obarray[obarray[:,4]==0]\n",
    "\n",
    "# Compute and print some stats for the data\n",
    "# -----------------------------------------\n",
    "    stdev = np.nanstd(np.abs(goodQC[:, 2]))  # Standard deviation\n",
    "    omeanb = np.nanmean(np.abs(goodQC[:, 2])) # Mean of the data\n",
    "    datmi = np.nanmin(goodQC[:, 2])  # Min of the data\n",
    "    datma = np.nanmax(goodQC[:, 2])  # Max of the data\n",
    "    omeana = np.nanmean(np.abs(goodQC[:, 3]))\n",
    "\n",
    "    pmeanb = \"{:.2f}\".format(omeanb)\n",
    "    pmeana = \"{:.2f}\".format(omeana)\n",
    "\n",
    "    print('omeanb = ',pmeanb, ' omeana = ',pmeana)\n",
    "    \n",
    "    omean_bg.append(omeanb)\n",
    "    omean_ana.append(omeana)\n",
    "    t_out.append(datetime.fromisoformat(mydatetime))\n",
    "    num_poss.append(np.size(obarray))\n",
    "    num_used.append(np.size(goodQC))\n"
   ]
  },
  {
   "cell_type": "code",
   "execution_count": 7,
   "id": "02293f21",
   "metadata": {},
   "outputs": [
    {
     "data": {
      "text/plain": [
       "0.3708609271523179"
      ]
     },
     "execution_count": 7,
     "metadata": {},
     "output_type": "execute_result"
    }
   ],
   "source": [
    "np.size(goodQC)/np.size(obarray)"
   ]
  },
  {
   "cell_type": "code",
   "execution_count": 4,
   "id": "f8d4b7d5",
   "metadata": {},
   "outputs": [
    {
     "data": {
      "text/plain": [
       "[<matplotlib.lines.Line2D at 0x7fa648af4e90>]"
      ]
     },
     "execution_count": 4,
     "metadata": {},
     "output_type": "execute_result"
    },
    {
     "data": {
      "image/png": "[encoded data removed]",
      "text/plain": [
       "<Figure size 1080x576 with 1 Axes>"
      ]
     },
     "metadata": {
      "needs_background": "light"
     },
     "output_type": "display_data"
    }
   ],
   "source": [
    "# Create figure\n",
    "# -------------\n",
    "fig = plt.figure(figsize=(15, 8))\n",
    "\n",
    "plt.plot(t_out, omean_ana)\n",
    "plt.plot(t_out, omean_bg)"
   ]
  },
  {
   "cell_type": "code",
   "execution_count": null,
   "id": "fac8290c",
   "metadata": {},
   "outputs": [],
   "source": [
    "\n",
    "# Create figure\n",
    "# -------------\n",
    "    fig = plt.figure(figsize=(15, 8))\n",
    "\n",
    "# initialize the plot pointing to the projection\n",
    "    ax = plt.axes(projection=ccrs.PlateCarree(central_longitude=0))\n",
    "\n",
    "# plot grid lines\n",
    "    gl = ax.gridlines(crs=ccrs.PlateCarree(central_longitude=0), draw_labels=True,\n",
    "                      linewidth=1, color='gray', alpha=0.5, linestyle='-')\n",
    "\n",
    "    gl.xlabel_style = {'size': 10, 'color': 'black'}\n",
    "    gl.ylabel_style = {'size': 10, 'color': 'black'}\n",
    "#gl.xlocator = mticker.FixedLocator(\n",
    "#    [-180, -135, -90, -45, 0, 45, 90, 135, 179.9])\n",
    "    ax.set_ylabel(\"Latitude\",  fontsize=7)\n",
    "    ax.set_xlabel(\"Longitude\", fontsize=7)\n",
    "\n",
    "    ax.tick_params(labelbottom=False, labeltop=False, labelleft=False, labelright=False)\n",
    "\n",
    "# scatter data\n",
    "    sc = ax.scatter(obarray[:, 1], obarray[:, 2],\n",
    "                c=obarray[:, 0], s=50, linewidth=0.4, edgecolors='black',\n",
    "                transform=ccrs.PlateCarree(), cmap=cmap_obs, vmin=cmin, vmax=cmax)   \n",
    "# colorbar\n",
    "    cbar = plt.colorbar(sc, ax=ax, orientation=\"horizontal\", pad=.1, fraction=0.06,)\n",
    "    if not units==None:\n",
    "        cbar.ax.set_ylabel(units, fontsize=10)\n",
    "\n",
    "# draw coastlines\n",
    "    ax.coastlines()\n",
    "    ax.add_feature(cartopy.feature.STATES)\n",
    "\n",
    "    ax.set_extent([-110, -104, 36.8, 41.2], crs=ccrs.PlateCarree())\n",
    "\n",
    "# figure labels\n",
    "    plt.title(\"Observation statistics: \"+field.replace(\"_\",\" \")+\" \"+metric+\" | mean = \"+pmean+\" | \"+\n",
    "            window_begin+\" to \"+window_end, y=1.08)\n",
    "    ax.text(0.45, -0.1,   'Longitude', transform=ax.transAxes, ha='left')\n",
    "    ax.text(-0.08, 0.4, 'Latitude', transform=ax.transAxes,\n",
    "        rotation='vertical', va='bottom')\n",
    "  \n",
    "\n",
    "#    show plot\n",
    "    savename = ('./pngs/Colorado_Bkg_and_OmB_'+datetime+'_cycle.png')\n",
    "    print(\" Saving figure as\", savename, \"\\n\")\n",
    "    plt.savefig(savename, facecolor='w', dpi = 400)"
   ]
  },
  {
   "cell_type": "code",
   "execution_count": null,
   "id": "0b861099",
   "metadata": {},
   "outputs": [],
   "source": [
    "png_dir = './pngs'\n",
    "images = []\n",
    "for file_name in sorted(os.listdir(png_dir)):\n",
    "    if file_name.endswith('_cycle.png'):\n",
    "        file_path = os.path.join(png_dir, file_name)\n",
    "        images.append(imageio.imread(file_path))\n",
    "imageio.mimsave('./cycle_movie.gif', images, fps = 1)"
   ]
  },
  {
   "cell_type": "code",
   "execution_count": null,
   "id": "bd56aff6",
   "metadata": {},
   "outputs": [],
   "source": [
    "\n",
    "x = datetime(2018, 6, 1)\n",
    "\n",
    "i = 3897\n",
    "\n",
    "print(x)\n",
    "\n",
    "new_day = timedelta(days=+i)\n",
    "\n",
    "x = x + new_day\n",
    "\n",
    "print(x)\n",
    "date_str = x.strftime(\"%Y-%m-%dT%H:%M:%S\")\n",
    "\n",
    "print(date_str)"
   ]
  }
 ],
 "metadata": {
  "interpreter": {
   "hash": "a8e38ed39067dad1268338bc14a391c1ac7c8de1eb0483fb4858ab29bcf9570c"
  },
  "kernelspec": {
   "display_name": "Python 3.7.12 ('xr')",
   "language": "python",
   "name": "python3"
  },
  "language_info": {
   "codemirror_mode": {
    "name": "ipython",
    "version": 3
   },
   "file_extension": ".py",
   "mimetype": "text/x-python",
   "name": "python",
   "nbconvert_exporter": "python",
   "pygments_lexer": "ipython3",
   "version": "3.7.12"
  }
 },
 "nbformat": 4,
 "nbformat_minor": 5
}
