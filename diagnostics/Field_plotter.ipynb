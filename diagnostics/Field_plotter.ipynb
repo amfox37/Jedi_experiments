{
 "cells": [
  {
   "cell_type": "markdown",
   "id": "de430318",
   "metadata": {},
   "source": []
  },
  {
   "cell_type": "code",
   "execution_count": null,
   "id": "e39550aa",
   "metadata": {},
   "outputs": [],
   "source": [
    "import cartopy.crs as ccrs\n",
    "import cartopy\n",
    "import matplotlib.pyplot as plt\n",
    "import netCDF4\n",
    "import numpy as np\n",
    "import os\n",
    "import pandas as pd"
   ]
  },
  {
   "cell_type": "code",
   "execution_count": 2,
   "id": "22406556",
   "metadata": {},
   "outputs": [],
   "source": [
    "#fields_file = \"/glade/u/home/afox/work/jedi/jedi_exec_experiments/input/wrf_hydro_nwm_files/wrfinput.d01.conus_1km_NWMv2.1.nc\"\n",
    "fields_file = \"/glade/u/home/afox/work/jedi/jedi_exec_experiments/input/wrf_hydro_nwm_files/geometry_nwm_long_range_snow.nc\"\n",
    "\n",
    "bkg_file = \"/glade/u/home/afox/work/jedi/jedi_exec_experiments/input/wrf_hydro_nwm_files/RESTART.2017010100_sneqv_plus5_DOMAIN1_3dvar_input\"\n",
    "ana_file = \"/glade/u/home/afox/work/jedi/jedi_exec_experiments/output/3dvar/test_analysis.nc\""
   ]
  },
  {
   "cell_type": "code",
   "execution_count": 3,
   "id": "b0786a0c",
   "metadata": {},
   "outputs": [],
   "source": [
    "field_name = \"SNEQV\" #\"SNOWH\""
   ]
  },
  {
   "cell_type": "code",
   "execution_count": 4,
   "id": "2b2f087a",
   "metadata": {},
   "outputs": [],
   "source": [
    "model_layer = None"
   ]
  },
  {
   "cell_type": "code",
   "execution_count": 5,
   "id": "ef7db070",
   "metadata": {},
   "outputs": [
    {
     "name": "stdout",
     "output_type": "stream",
     "text": [
      "\n",
      "Opening  /glade/u/home/afox/work/jedi/jedi_exec_experiments/input/wrf_hydro_nwm_files/geometry_nwm_long_range_snow.nc for reading\n"
     ]
    }
   ],
   "source": [
    "# Open the file\n",
    "print('\\nOpening ', fields_file, 'for reading')\n",
    "ncfile = netCDF4.Dataset(fields_file, mode='r')"
   ]
  },
  {
   "cell_type": "code",
   "execution_count": 6,
   "id": "062071d3",
   "metadata": {},
   "outputs": [],
   "source": [
    "# Get metadata from the file\n",
    "npx = ncfile.dimensions[\"west_east\"].size\n",
    "npy = ncfile.dimensions[\"south_north\"].size\n",
    "npz = 1"
   ]
  },
  {
   "cell_type": "code",
   "execution_count": 7,
   "id": "6bc24c6d",
   "metadata": {},
   "outputs": [],
   "source": [
    "lons = ncfile.variables[\"XLONG\"][:]\n",
    "lats = ncfile.variables[\"XLAT\"][:]"
   ]
  },
  {
   "cell_type": "code",
   "execution_count": 8,
   "id": "1d967aed",
   "metadata": {},
   "outputs": [
    {
     "name": "stdout",
     "output_type": "stream",
     "text": [
      " Grid dimensions 30 x 24 x 1\n"
     ]
    }
   ],
   "source": [
    "# Print field dimensions\n",
    "print(\" Grid dimensions\", npx, 'x', npy, 'x', npz)"
   ]
  },
  {
   "cell_type": "code",
   "execution_count": 9,
   "id": "3cfc45cf",
   "metadata": {},
   "outputs": [],
   "source": [
    "fields_file = ana_file"
   ]
  },
  {
   "cell_type": "code",
   "execution_count": 10,
   "id": "4429bd32",
   "metadata": {},
   "outputs": [
    {
     "name": "stdout",
     "output_type": "stream",
     "text": [
      "\n",
      "Opening  /glade/u/home/afox/work/jedi/jedi_exec_experiments/output/3dvar/test_analysis.nc for reading\n"
     ]
    }
   ],
   "source": [
    "# Open the file\n",
    "print('\\nOpening ', fields_file, 'for reading')\n",
    "ncfile = netCDF4.Dataset(fields_file, mode='r')"
   ]
  },
  {
   "cell_type": "code",
   "execution_count": 11,
   "id": "52cf0679",
   "metadata": {},
   "outputs": [],
   "source": [
    " # Get field units from the file\n",
    "#units = ncfile.variables[field_name].units\n",
    "units = \"mm\""
   ]
  },
  {
   "cell_type": "code",
   "execution_count": 12,
   "id": "44211f9c",
   "metadata": {},
   "outputs": [],
   "source": [
    "# Zero out array to fill with field\n",
    "field = np.zeros((npy, npx))"
   ]
  },
  {
   "cell_type": "code",
   "execution_count": 13,
   "id": "e3dd8e0d",
   "metadata": {},
   "outputs": [
    {
     "name": "stdout",
     "output_type": "stream",
     "text": [
      " Reading field  SNEQV\n"
     ]
    }
   ],
   "source": [
    "# Check if field is two or three dimensions\n",
    "if len(ncfile.variables[field_name].shape) == 4:\n",
    "\n",
    "      # User must provide layer/level to plot if 3D\n",
    "      if (model_layer == None):\n",
    "          utils.abort(\"If plotting 3D variable user must provide \\'model layer\\' in the configuration\")\n",
    "\n",
    "      # Message and read the field at provided layer\n",
    "      print(\" Reading layer \", model_layer, \" from field \", field_name)\n",
    "      field[:,:] = ncfile.variables[field_name][:,model_layer-1,:,:]\n",
    "\n",
    "      # Set plot title and output file to include level plotted\n",
    "      title = \"Contour of \"+field_name+\" (\"+units+\") for layer \"+str(model_layer)\n",
    "      outfile = os.path.splitext(fields_file)[0]+\"_\"+field_name+\"_layer-\"+str(model_layer)+\".png\"\n",
    "\n",
    "elif len(ncfile.variables[field_name].shape) == 3:\n",
    "\n",
    "      # Message and read the field at provided layer\n",
    "      print(\" Reading field \", field_name)\n",
    "      field[:,:] = ncfile.variables[field_name][:,:]\n",
    "      title = \"Contour of \"+field_name+\" (\"+units+\")\"\n",
    "      outfile = os.path.splitext(fields_file)[0]+\"_\"+field_name+\".png\"\n"
   ]
  },
  {
   "cell_type": "code",
   "execution_count": 14,
   "id": "4e118b0b",
   "metadata": {},
   "outputs": [],
   "source": [
    "analysis = field"
   ]
  },
  {
   "cell_type": "code",
   "execution_count": 15,
   "id": "71fd2616",
   "metadata": {},
   "outputs": [
    {
     "name": "stdout",
     "output_type": "stream",
     "text": [
      "\n",
      "Opening  /glade/u/home/afox/work/jedi/jedi_exec_experiments/input/wrf_hydro_nwm_files/RESTART.2017010100_sneqv_plus5_DOMAIN1_3dvar_input for reading\n",
      " Reading field  SNEQV\n"
     ]
    }
   ],
   "source": [
    "fields_file = bkg_file\n",
    "\n",
    "# Open the file\n",
    "print('\\nOpening ', fields_file, 'for reading')\n",
    "ncfile = netCDF4.Dataset(fields_file, mode='r')\n",
    "\n",
    "# Zero out array to fill with field\n",
    "field = np.zeros((npy, npx))\n",
    "\n",
    "# Check if field is two or three dimensions\n",
    "if len(ncfile.variables[field_name].shape) == 4:\n",
    "\n",
    "      # User must provide layer/level to plot if 3D\n",
    "      if (model_layer == None):\n",
    "          utils.abort(\"If plotting 3D variable user must provide \\'model layer\\' in the configuration\")\n",
    "\n",
    "      # Message and read the field at provided layer\n",
    "      print(\" Reading layer \", model_layer, \" from field \", field_name)\n",
    "      field[:,:] = ncfile.variables[field_name][:,model_layer-1,:,:]\n",
    "\n",
    "      # Set plot title and output file to include level plotted\n",
    "      title = \"Contour of \"+field_name+\" (\"+units+\") for layer \"+str(model_layer)\n",
    "      outfile = os.path.splitext(fields_file)[0]+\"_\"+field_name+\"_layer-\"+str(model_layer)+\".png\"\n",
    "\n",
    "elif len(ncfile.variables[field_name].shape) == 3:\n",
    "\n",
    "      # Message and read the field at provided layer\n",
    "      print(\" Reading field \", field_name)\n",
    "      field[:,:] = ncfile.variables[field_name][:,:]\n",
    "      title = \"Contour of \"+field_name+\" (\"+units+\")\"\n",
    "      outfile = os.path.splitext(fields_file)[0]+\"_\"+field_name+\".png\""
   ]
  },
  {
   "cell_type": "code",
   "execution_count": 16,
   "id": "85cb51fc",
   "metadata": {},
   "outputs": [],
   "source": [
    "increment = analysis - field"
   ]
  },
  {
   "cell_type": "code",
   "execution_count": 17,
   "id": "a600aa0a",
   "metadata": {},
   "outputs": [],
   "source": [
    "field = increment"
   ]
  },
  {
   "cell_type": "code",
   "execution_count": 18,
   "id": "c68e6665",
   "metadata": {
    "tags": []
   },
   "outputs": [],
   "source": [
    "# Check if field has positve and negative values\n",
    "# ----------------------------------------------\n",
    "if np.min(field) < 0:\n",
    "      cmax = np.max(np.abs(field))\n",
    "      cmin = -cmax\n",
    "      cmap = 'RdBu'\n",
    "else:\n",
    "      cmax = np.max(field)\n",
    "      cmin = np.min(field)\n",
    "      cmap = 'nipy_spectral'\n",
    "\n",
    "levels = np.linspace(cmin,cmax,250)\n"
   ]
  },
  {
   "cell_type": "code",
   "execution_count": 19,
   "id": "3410bd84",
   "metadata": {},
   "outputs": [],
   "source": [
    "#cmax = np.max(field)\n",
    "#cmin = np.min(field)\n",
    "#cmax = 10\n",
    "#cmin = -10\n",
    "#cmap = 'nipy_spectral'\n",
    "\n",
    "#levels = np.linspace(cmin,cmax,100)\n",
    "\n",
    "#DANGER!!\n",
    "field3 = np.clip(field, cmin, cmax)"
   ]
  },
  {
   "cell_type": "code",
   "execution_count": 20,
   "id": "b4d0281a",
   "metadata": {},
   "outputs": [],
   "source": [
    "#fig, ax = plt.subplots()\n",
    "#hist = ax.hist(field, bins=200)"
   ]
  },
  {
   "cell_type": "code",
   "execution_count": 21,
   "id": "5c7c8c4f",
   "metadata": {},
   "outputs": [],
   "source": [
    "lats = np.squeeze(lats)\n",
    "lons = np.squeeze(lons)"
   ]
  },
  {
   "cell_type": "code",
   "execution_count": 22,
   "id": "fe53171e",
   "metadata": {},
   "outputs": [
    {
     "name": "stdout",
     "output_type": "stream",
     "text": [
      " Saving figure as World_/glade/u/home/afox/work/jedi/jedi_exec_experiments/input/wrf_hydro_nwm_files/RESTART_SNEQV.png \n",
      "\n"
     ]
    },
    {
     "data": {
      "image/png": "[encoded data removed]",
      "text/plain": [
       "<Figure size 720x360 with 2 Axes>"
      ]
     },
     "metadata": {
      "needs_background": "light"
     },
     "output_type": "display_data"
    }
   ],
   "source": [
    "# Create two dimensional contour plot of field\n",
    "\n",
    "# Set the projection\n",
    "projection = ccrs.PlateCarree()\n",
    "\n",
    "    # Create figure to hold plot\n",
    "fig = plt.figure(figsize=(10, 5))\n",
    "\n",
    "    # Just one subplot for now\n",
    "ax = fig.add_subplot(1, 1, 1, projection=projection)\n",
    "\n",
    "    # Contour the field\n",
    "im = ax.contourf(lons, lats, field3,\n",
    "                    transform=projection,\n",
    "                     cmap=cmap,\n",
    "                     levels=levels)\n",
    "\n",
    "# Add coast lines to the plot\n",
    "ax.coastlines()\n",
    "\n",
    "# Add labels to the plot\n",
    "#ax.set_xticks(np.linspace(-180, 180, 5), crs=projection)\n",
    "#ax.set_yticks(np.linspace(-90, 90, 5), crs=projection)\n",
    "\n",
    "ax.set_xlabel('Longitude')\n",
    "ax.set_ylabel('Latitude')\n",
    "ax.set_title(title)\n",
    "#ax.set_global()\n",
    "\n",
    "# Add a colorbar for the filled contour.\n",
    "fig.colorbar(im)\n",
    "\n",
    "# Show the figure\n",
    "thisoutfile = \"World_\"+outfile\n",
    "print(\" Saving figure as\", thisoutfile, \"\\n\")\n",
    "plt.savefig(\"test.png\", facecolor='w', dpi = 400)"
   ]
  },
  {
   "cell_type": "code",
   "execution_count": 23,
   "id": "955054fa",
   "metadata": {},
   "outputs": [
    {
     "data": {
      "text/plain": [
       "-2.82684326171875"
      ]
     },
     "execution_count": 23,
     "metadata": {},
     "output_type": "execute_result"
    }
   ],
   "source": [
    "np.max(field3)"
   ]
  },
  {
   "cell_type": "code",
   "execution_count": 24,
   "id": "b981641a",
   "metadata": {},
   "outputs": [
    {
     "data": {
      "text/plain": [
       "-5.0960540771484375"
      ]
     },
     "execution_count": 24,
     "metadata": {},
     "output_type": "execute_result"
    }
   ],
   "source": [
    "np.min(field3)"
   ]
  },
  {
   "cell_type": "code",
   "execution_count": 25,
   "id": "b16f21f7",
   "metadata": {},
   "outputs": [
    {
     "name": "stdout",
     "output_type": "stream",
     "text": [
      " Saving figure as World_/glade/u/home/afox/work/jedi/jedi_exec_experiments/input/wrf_hydro_nwm_files/RESTART_SNEQV.png \n",
      "\n"
     ]
    },
    {
     "data": {
      "image/png": "[encoded data removed]",
      "text/plain": [
       "<Figure size 720x360 with 2 Axes>"
      ]
     },
     "metadata": {
      "needs_background": "light"
     },
     "output_type": "display_data"
    }
   ],
   "source": [
    "# Create two dimensional contour plot of field\n",
    "\n",
    "# Set the projection\n",
    "projection = ccrs.PlateCarree()\n",
    "\n",
    "    # Create figure to hold plot\n",
    "fig = plt.figure(figsize=(10, 5))\n",
    "\n",
    "    # Just one subplot for now\n",
    "ax = fig.add_subplot(1, 1, 1, projection=projection)\n",
    "\n",
    "    # Contour the field\n",
    "im = ax.contourf(lons, lats, field3,\n",
    "                    transform=projection,\n",
    "                     cmap=cmap,\n",
    "                     levels=levels)\n",
    "\n",
    "# Add coast lines to the plot\n",
    "ax.coastlines()\n",
    "\n",
    "ax.add_feature(cartopy.feature.STATES)\n",
    "\n",
    "# Add labels to the plot\n",
    "#ax.set_xticks(np.linspace(-180, 180, 5), crs=projection)\n",
    "#ax.set_yticks(np.linspace(-90, 90, 5), crs=projection)\n",
    "\n",
    "ax.set_xlabel('Longitude')\n",
    "ax.set_ylabel('Latitude')\n",
    "ax.set_title(title)\n",
    "#ax.set_global()\n",
    "\n",
    "# Add a colorbar for the filled contour.\n",
    "fig.colorbar(im)\n",
    "\n",
    "# Show the figure\n",
    "thisoutfile = \"World_\"+outfile\n",
    "print(\" Saving figure as\", thisoutfile, \"\\n\")\n",
    "#plt.savefig(thisoutfile, facecolor='w', dpi = 400)"
   ]
  },
  {
   "cell_type": "code",
   "execution_count": 26,
   "id": "e8d50d7d",
   "metadata": {},
   "outputs": [
    {
     "name": "stdout",
     "output_type": "stream",
     "text": [
      "3dvar_exp.o315144\t       r100h500_swe_exp.o354831\n",
      "config\t\t\t       r100h500_swe_exp.o9496728\n",
      "core-cheyenne4-16163-11506-11  r100h500_swe_exp.o9496834\n",
      "core-cheyenne4-16163-16805-11  r100h500_swe_exp.o9511895\n",
      "diagnostics\t\t       run_3dvar.sh\n",
      "hofx_exp.o305725\t       run_3dvar_single_obs.sh\n",
      "hofx_exp.o305907\t       run_hofx3d.sh\n",
      "input\t\t\t       submit_3dvar.sh\n",
      "logs\t\t\t       submit_hofx3d.sh\n",
      "output\t\t\t       submit_script.sh\n"
     ]
    }
   ],
   "source": [
    "!ls .."
   ]
  },
  {
   "cell_type": "code",
   "execution_count": null,
   "id": "3dff4769",
   "metadata": {},
   "outputs": [],
   "source": []
  }
 ],
 "metadata": {
  "interpreter": {
   "hash": "31f2aee4e71d21fbe5cf8b01ff0e069b9275f58929596ceb00d14d90e3e16cd6"
  },
  "kernelspec": {
   "display_name": "Pangeo (Python 3.6)",
   "language": "python",
   "name": "pangeo-3.6"
  },
  "language_info": {
   "codemirror_mode": {
    "name": "ipython",
    "version": 3
   },
   "file_extension": ".py",
   "mimetype": "text/x-python",
   "name": "python",
   "nbconvert_exporter": "python",
   "pygments_lexer": "ipython3",
   "version": "3.6.7"
  }
 },
 "nbformat": 4,
 "nbformat_minor": 5
}
