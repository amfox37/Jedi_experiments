{
 "cells": [
  {
   "cell_type": "code",
   "execution_count": 1,
   "id": "otherwise-mouth",
   "metadata": {},
   "outputs": [],
   "source": [
    "import cartopy.crs as ccrs\n",
    "import cartopy\n",
    "import matplotlib.pyplot as plt\n",
    "import netCDF4\n",
    "import numpy as np\n",
    "import os\n",
    "import pandas as pd"
   ]
  },
  {
   "cell_type": "code",
   "execution_count": 2,
   "id": "noble-brake",
   "metadata": {},
   "outputs": [],
   "source": [
    "geom_file = \"/glade/u/home/afox/work/jedi/jedi_exec_experiments/input/wrf_hydro_nwm_files/geometry_nwm_long_range_snow.nc\"\n",
    "\n",
    "bkg_file = \"/glade/u/home/afox/work/jedi/jedi_exec_experiments/input/wrf_hydro_nwm_files/RESTART.2017010100_sneqv_plus5_DOMAIN1_3dvar_input\"\n",
    "\n",
    "ana_file = \"/glade/u/home/afox/work/jedi/jedi_exec_experiments/output/3dvar/analysis.nc\""
   ]
  },
  {
   "cell_type": "code",
   "execution_count": 3,
   "id": "subject-input",
   "metadata": {},
   "outputs": [],
   "source": [
    "field_name = \"SNEQV\" #\"SNOWH\""
   ]
  },
  {
   "cell_type": "code",
   "execution_count": 4,
   "id": "curious-dating",
   "metadata": {},
   "outputs": [],
   "source": [
    "#model_layer = None"
   ]
  },
  {
   "cell_type": "code",
   "execution_count": 5,
   "id": "czech-settle",
   "metadata": {},
   "outputs": [
    {
     "name": "stdout",
     "output_type": "stream",
     "text": [
      "\n",
      "Opening  /glade/u/home/afox/work/jedi/jedi_exec_experiments/input/wrf_hydro_nwm_files/geometry_nwm_long_range_snow.nc for reading\n"
     ]
    }
   ],
   "source": [
    "# Open the file\n",
    "print('\\nOpening ', geom_file, 'for reading')\n",
    "ncfile = netCDF4.Dataset(geom_file, mode='r')"
   ]
  },
  {
   "cell_type": "code",
   "execution_count": 6,
   "id": "finished-andorra",
   "metadata": {},
   "outputs": [],
   "source": [
    "# Get metadata from the file\n",
    "npx = ncfile.dimensions[\"west_east\"].size\n",
    "npy = ncfile.dimensions[\"south_north\"].size\n",
    "npz = 1"
   ]
  },
  {
   "cell_type": "code",
   "execution_count": 7,
   "id": "powered-luxury",
   "metadata": {},
   "outputs": [],
   "source": [
    "lons = ncfile.variables[\"XLONG\"][:]\n",
    "lats = ncfile.variables[\"XLAT\"][:]"
   ]
  },
  {
   "cell_type": "code",
   "execution_count": 8,
   "id": "gorgeous-dealing",
   "metadata": {},
   "outputs": [
    {
     "name": "stdout",
     "output_type": "stream",
     "text": [
      " Grid dimensions 30 x 24 x 1\n"
     ]
    }
   ],
   "source": [
    "# Print field dimensions\n",
    "print(\" Grid dimensions\", npx, 'x', npy, 'x', npz)"
   ]
  },
  {
   "cell_type": "code",
   "execution_count": 9,
   "id": "94201fa0-9fc0-42fa-b834-ea3ac153ae07",
   "metadata": {},
   "outputs": [],
   "source": [
    "# Zero out array to fill with field\n",
    "hgt = np.zeros((npy, npx))"
   ]
  },
  {
   "cell_type": "code",
   "execution_count": 10,
   "id": "3fae8f2e-acac-4c68-bdcb-1bf5778d0046",
   "metadata": {},
   "outputs": [],
   "source": [
    "hgt[:,:] = ncfile.variables[\"HGT\"][:,:]"
   ]
  },
  {
   "cell_type": "code",
   "execution_count": 11,
   "id": "abdcb681-eddf-4346-b4de-a28c1ae2eef7",
   "metadata": {},
   "outputs": [],
   "source": [
    "cmax = np.max(hgt)\n",
    "cmin = np.min(hgt)\n",
    "cmap_h = 'gray'\n",
    "\n",
    "levels_h = np.linspace(cmin,cmax,50)"
   ]
  },
  {
   "cell_type": "code",
   "execution_count": 12,
   "id": "proprietary-clothing",
   "metadata": {},
   "outputs": [
    {
     "name": "stdout",
     "output_type": "stream",
     "text": [
      "\n",
      "Opening  /glade/u/home/afox/work/jedi/jedi_exec_experiments/input/wrf_hydro_nwm_files/RESTART.2017010100_sneqv_plus5_DOMAIN1_3dvar_input for reading\n"
     ]
    }
   ],
   "source": [
    "# Open the background file\n",
    "print('\\nOpening ', bkg_file, 'for reading')\n",
    "ncfile = netCDF4.Dataset(bkg_file, mode='r')"
   ]
  },
  {
   "cell_type": "code",
   "execution_count": 13,
   "id": "similar-coaching",
   "metadata": {},
   "outputs": [],
   "source": [
    " # Get field units from the file\n",
    "#units = ncfile.variables[field_name].units\n",
    "units = \"mm\""
   ]
  },
  {
   "cell_type": "code",
   "execution_count": 14,
   "id": "incorporated-religious",
   "metadata": {},
   "outputs": [],
   "source": [
    "# Zero out array to fill with field\n",
    "bkg = np.zeros((npy, npx))"
   ]
  },
  {
   "cell_type": "code",
   "execution_count": 15,
   "id": "rubber-waterproof",
   "metadata": {},
   "outputs": [
    {
     "name": "stdout",
     "output_type": "stream",
     "text": [
      " Reading field  SNEQV\n"
     ]
    }
   ],
   "source": [
    "# Message and read the field at provided layer\n",
    "print(\" Reading field \", field_name)\n",
    "bkg[:,:] = ncfile.variables[field_name][:,:]\n",
    "\n",
    "title = \"Contour of \"+field_name+\" (\"+units+\")\"\n",
    "outfile = os.path.splitext(bkg_file)[0]+\"_\"+field_name+\".png\"\n"
   ]
  },
  {
   "cell_type": "code",
   "execution_count": 16,
   "id": "1438aa54-e1d1-48d8-bc32-7c6f0cb12651",
   "metadata": {},
   "outputs": [
    {
     "name": "stdout",
     "output_type": "stream",
     "text": [
      "\n",
      "Opening  /glade/u/home/afox/work/jedi/jedi_exec_experiments/output/3dvar/analysis.nc for reading\n"
     ]
    }
   ],
   "source": [
    "# Open the analysis file\n",
    "print('\\nOpening ', ana_file, 'for reading')\n",
    "ncfile = netCDF4.Dataset(ana_file, mode='r')"
   ]
  },
  {
   "cell_type": "code",
   "execution_count": 17,
   "id": "1261d35f-7be8-4f13-9206-c6ae5c520223",
   "metadata": {},
   "outputs": [],
   "source": [
    "# Zero out array to fill with field\n",
    "ana = np.zeros((npy, npx))"
   ]
  },
  {
   "cell_type": "code",
   "execution_count": 18,
   "id": "3a3fed6b-d278-45f2-97a2-81827cf9385d",
   "metadata": {},
   "outputs": [
    {
     "name": "stdout",
     "output_type": "stream",
     "text": [
      " Reading field  SNEQV\n"
     ]
    }
   ],
   "source": [
    "# Message and read the field at provided layer\n",
    "print(\" Reading field \", field_name)\n",
    "ana[:,:] = ncfile.variables[field_name][:,:]\n",
    "\n",
    "title = \"Contour of \"+field_name+\" (\"+units+\")\"\n",
    "outfile = os.path.splitext(ana_file)[0]+\"_\"+field_name+\".png\""
   ]
  },
  {
   "cell_type": "code",
   "execution_count": 19,
   "id": "0a2e4f3d-3114-4211-977b-8fb7fe53415b",
   "metadata": {},
   "outputs": [],
   "source": [
    "increment = ana - bkg"
   ]
  },
  {
   "cell_type": "code",
   "execution_count": 20,
   "id": "greek-religion",
   "metadata": {
    "tags": []
   },
   "outputs": [],
   "source": [
    "# Check if field has positve and negative values\n",
    "# ----------------------------------------------\n",
    "if np.min(increment) < 0:\n",
    "      cmax = np.max(np.abs(increment))\n",
    "      cmin = -cmax\n",
    "      cmap = 'RdBu'\n",
    "else:\n",
    "      cmax = np.max(increment)\n",
    "      cmin = np.min(increment)\n",
    "      cmap = 'nipy_spectral'\n",
    "\n",
    "levels = np.linspace(cmin,cmax,50)\n"
   ]
  },
  {
   "cell_type": "code",
   "execution_count": 21,
   "id": "knowing-bedroom",
   "metadata": {},
   "outputs": [],
   "source": [
    "lats = np.squeeze(lats)\n",
    "lons = np.squeeze(lons)"
   ]
  },
  {
   "cell_type": "code",
   "execution_count": 22,
   "id": "provincial-mapping",
   "metadata": {},
   "outputs": [
    {
     "name": "stdout",
     "output_type": "stream",
     "text": [
      " Saving figure as hgt.png \n",
      "\n"
     ]
    },
    {
     "data": {
      "image/png": "[encoded data removed]",
      "text/plain": [
       "<Figure size 720x360 with 2 Axes>"
      ]
     },
     "metadata": {
      "needs_background": "light"
     },
     "output_type": "display_data"
    }
   ],
   "source": [
    "# Create two dimensional contour plot of HGT\n",
    "\n",
    "# Set the projection\n",
    "projection = ccrs.PlateCarree()\n",
    "\n",
    "    # Create figure to hold plot\n",
    "fig = plt.figure(figsize=(10, 5))\n",
    "\n",
    "    # Just one subplot for now\n",
    "ax = fig.add_subplot(1, 1, 1, projection=projection)\n",
    "\n",
    "    # Contour the field\n",
    "im = ax.contourf(lons, lats, hgt,\n",
    "                     transform=projection,\n",
    "                     cmap=cmap_h,\n",
    "                     levels=levels_h)\n",
    "\n",
    "# Add coast lines to the plot\n",
    "ax.coastlines()\n",
    "\n",
    "ax.add_feature(cartopy.feature.STATES)\n",
    "\n",
    "# Add labels to the plot\n",
    "ax.set_xticks(np.linspace(np.min(lons), np.max(lons), 5), crs=projection)\n",
    "ax.set_yticks(np.linspace(np.min(lats), np.max(lats), 5), crs=projection)\n",
    "\n",
    "ax.set_xlabel(\"Longitude\")\n",
    "ax.set_ylabel('Latitude')\n",
    "ax.set_title(\"HGT (m)\")\n",
    "#ax.set_global()\n",
    "\n",
    "# Add a colorbar for the filled contour.\n",
    "fig.colorbar(im)\n",
    "\n",
    "# Show the figure\n",
    "thisoutfile = \"World_\"+outfile\n",
    "print(\" Saving figure as hgt.png \\n\")\n",
    "plt.savefig(\"hgt.png\", facecolor='w', dpi = 400)"
   ]
  },
  {
   "cell_type": "code",
   "execution_count": 23,
   "id": "shaped-modern",
   "metadata": {},
   "outputs": [
    {
     "name": "stdout",
     "output_type": "stream",
     "text": [
      " Saving figure as swe_increment_gc_h \n",
      "\n"
     ]
    },
    {
     "data": {
      "image/png": "[encoded data removed]",
      "text/plain": [
       "<Figure size 720x360 with 2 Axes>"
      ]
     },
     "metadata": {
      "needs_background": "light"
     },
     "output_type": "display_data"
    }
   ],
   "source": [
    "# Create two dimensional contour plot of field\n",
    "\n",
    "# Set the projection\n",
    "projection = ccrs.PlateCarree()\n",
    "\n",
    "    # Create figure to hold plot\n",
    "fig = plt.figure(figsize=(10, 5))\n",
    "\n",
    "    # Just one subplot for now\n",
    "ax = fig.add_subplot(1, 1, 1, projection=projection)\n",
    "\n",
    "    # Contour the field\n",
    "im = ax.contourf(lons, lats, increment,\n",
    "                    transform=projection,\n",
    "                     cmap=cmap,\n",
    "                     levels=levels)\n",
    "\n",
    "# Add coast lines to the plot\n",
    "ax.coastlines()\n",
    "\n",
    "ax.add_feature(cartopy.feature.STATES)\n",
    "\n",
    "# Add labels to the plot\n",
    "ax.set_xticks(np.linspace(np.min(lons), np.max(lons), 5), crs=projection)\n",
    "ax.set_yticks(np.linspace(np.min(lats), np.max(lats), 5), crs=projection)\n",
    "\n",
    "ax.set_xlabel('Longitude')\n",
    "ax.set_ylabel('Latitude')\n",
    "ax.set_title(title)\n",
    "#ax.set_global()\n",
    "\n",
    "# Add a colorbar for the filled contour.\n",
    "fig.colorbar(im)\n",
    "\n",
    "# Show the figure\n",
    "thisoutfile = \"swe_increment_gc_h\"\n",
    "print(\" Saving figure as\", thisoutfile, \"\\n\")\n",
    "plt.savefig(thisoutfile, facecolor='w', dpi = 400)"
   ]
  },
  {
   "cell_type": "code",
   "execution_count": 24,
   "id": "conventional-nevada",
   "metadata": {},
   "outputs": [
    {
     "data": {
      "text/plain": [
       "39.079094"
      ]
     },
     "execution_count": 24,
     "metadata": {},
     "output_type": "execute_result"
    }
   ],
   "source": [
    "np.max(lats)"
   ]
  },
  {
   "cell_type": "code",
   "execution_count": null,
   "id": "finished-memorial",
   "metadata": {},
   "outputs": [],
   "source": []
  }
 ],
 "metadata": {
  "kernelspec": {
   "display_name": "Pangeo (Python 3.6)",
   "language": "python",
   "name": "pangeo-3.6"
  },
  "language_info": {
   "codemirror_mode": {
    "name": "ipython",
    "version": 3
   },
   "file_extension": ".py",
   "mimetype": "text/x-python",
   "name": "python",
   "nbconvert_exporter": "python",
   "pygments_lexer": "ipython3",
   "version": "3.6.7"
  }
 },
 "nbformat": 4,
 "nbformat_minor": 5
}
