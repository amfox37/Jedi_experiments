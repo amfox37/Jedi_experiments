{
 "cells": [
  {
   "cell_type": "markdown",
   "metadata": {},
   "source": []
  },
  {
   "cell_type": "code",
   "execution_count": 1,
   "metadata": {},
   "outputs": [],
   "source": [
    "import cartopy.crs as ccrs\n",
    "import datetime as dt\n",
    "import glob\n",
    "import matplotlib\n",
    "import matplotlib.pyplot as plt\n",
    "import matplotlib.ticker as mticker\n",
    "import netCDF4\n",
    "import numpy as np\n",
    "import os"
   ]
  },
  {
   "cell_type": "code",
   "execution_count": 5,
   "metadata": {},
   "outputs": [],
   "source": [
    "# File containing hofx files\n",
    "hofx_files_template = '/Users/afox/Jedi/Jedi_experiments/diagnostics/ghcn_snod_2021-01-04T18:00:00Z.nc4'\n",
    "datetime = '2021-08-16T18:00:00'\n",
    "window_begin = '2021-08-16T15:00:00'\n",
    "window_end = '2021-08-16T21:00:00'\n",
    "metric = 'ObsValue' #'ObsValue'\n",
    "field = 'totalSnowDepth' #'soilMoistureVolumetric'\n",
    "units = 'mm'\n",
    "output_path = './'\n",
    "plotformat = 'png'\n",
    "\n",
    "colmin = None\n",
    "colmax = None\n",
    "\n",
    "# Create output path\n",
    "if not os.path.exists(output_path):\n",
    "    os.makedirs(output_path)"
   ]
  },
  {
   "cell_type": "code",
   "execution_count": 6,
   "metadata": {},
   "outputs": [
    {
     "data": {
      "text/plain": [
       "'/Users/afox/Jedi/Jedi_experiments/diagnostics/ghcn_snod_2021-01-04T18_00_00Z.nc4'"
      ]
     },
     "execution_count": 6,
     "metadata": {},
     "output_type": "execute_result"
    }
   ],
   "source": [
    "hofx_files = glob.glob(hofx_files_template)\n",
    "\n",
    "hofx_files = '/Users/afox/Jedi/Jedi_experiments/diagnostics/ghcn_snod_2021-01-04T18_00_00Z.nc4'\n",
    "\n",
    "hofx_files"
   ]
  },
  {
   "cell_type": "code",
   "execution_count": 7,
   "metadata": {},
   "outputs": [
    {
     "name": "stdout",
     "output_type": "stream",
     "text": [
      " Reading /\n"
     ]
    },
    {
     "ename": "OSError",
     "evalue": "[Errno -51] NetCDF: Unknown file format: b'/'",
     "output_type": "error",
     "traceback": [
      "\u001b[0;31m---------------------------------------------------------------------------\u001b[0m",
      "\u001b[0;31mOSError\u001b[0m                                   Traceback (most recent call last)",
      "\u001b[0;32m/var/folders/dl/cjdcwl853v525xmm3135tsrspdk5nl/T/ipykernel_85231/1462057669.py\u001b[0m in \u001b[0;36m<module>\u001b[0;34m\u001b[0m\n\u001b[1;32m     10\u001b[0m \u001b[0;34m\u001b[0m\u001b[0m\n\u001b[1;32m     11\u001b[0m     \u001b[0;31m# Open the file\u001b[0m\u001b[0;34m\u001b[0m\u001b[0;34m\u001b[0m\u001b[0;34m\u001b[0m\u001b[0m\n\u001b[0;32m---> 12\u001b[0;31m     \u001b[0mfh\u001b[0m \u001b[0;34m=\u001b[0m \u001b[0mnetCDF4\u001b[0m\u001b[0;34m.\u001b[0m\u001b[0mDataset\u001b[0m\u001b[0;34m(\u001b[0m\u001b[0mhofx_file\u001b[0m\u001b[0;34m)\u001b[0m\u001b[0;34m\u001b[0m\u001b[0;34m\u001b[0m\u001b[0m\n\u001b[0m\u001b[1;32m     13\u001b[0m \u001b[0;34m\u001b[0m\u001b[0m\n\u001b[1;32m     14\u001b[0m     \u001b[0;31m# Read metric\u001b[0m\u001b[0;34m\u001b[0m\u001b[0;34m\u001b[0m\u001b[0;34m\u001b[0m\u001b[0m\n",
      "\u001b[0;32msrc/netCDF4/_netCDF4.pyx\u001b[0m in \u001b[0;36mnetCDF4._netCDF4.Dataset.__init__\u001b[0;34m()\u001b[0m\n",
      "\u001b[0;32msrc/netCDF4/_netCDF4.pyx\u001b[0m in \u001b[0;36mnetCDF4._netCDF4._ensure_nc_success\u001b[0;34m()\u001b[0m\n",
      "\u001b[0;31mOSError\u001b[0m: [Errno -51] NetCDF: Unknown file format: b'/'"
     ]
    }
   ],
   "source": [
    "# Loop over data files and read\n",
    "# -----------------------------\n",
    "odat = []\n",
    "lons = []\n",
    "lats = []\n",
    "time = []\n",
    "for hofx_file in hofx_files:\n",
    "    # Message file being read\n",
    "    print(\" Reading \"+hofx_file)\n",
    "\n",
    "    # Open the file\n",
    "    fh = netCDF4.Dataset(hofx_file)\n",
    "\n",
    "    # Read metric\n",
    "    if metric=='omb':\n",
    "        odat_proc = fh.groups['ObsValue'].variables[field][:] - fh.groups['hofx'].variables[field][:]\n",
    "    else:\n",
    "        odat_proc = fh.groups[metric].variables[field][:]\n",
    "\n",
    "    # Read metadata\n",
    "    lons_proc = fh.groups['MetaData'].variables['longitude'][:]\n",
    "    lats_proc = fh.groups['MetaData'].variables['latitude'][:]\n",
    "    time_proc = fh.groups['MetaData'].variables['datetime'][:]\n",
    "\n",
    "\n",
    "    for m in range(len(odat_proc)):\n",
    "        odat.append(odat_proc[m])\n",
    "        lons.append(lons_proc[m])\n",
    "        lats.append(lats_proc[m])\n",
    "\n",
    "    fh.close()"
   ]
  },
  {
   "cell_type": "code",
   "execution_count": null,
   "metadata": {},
   "outputs": [],
   "source": [
    "# Figure filename\n",
    "# ---------------\n",
    "field_savename = field\n",
    "savename = os.path.join(output_path, \"Observations_\"+field_savename+\"_\"+metric+\"_\"+datetime+\".\"+plotformat)"
   ]
  },
  {
   "cell_type": "code",
   "execution_count": null,
   "metadata": {},
   "outputs": [],
   "source": [
    "odat"
   ]
  },
  {
   "cell_type": "code",
   "execution_count": null,
   "metadata": {},
   "outputs": [],
   "source": [
    "# Set missing values to nans\n",
    "missing = 9.0e+30\n",
    "odat = np.where(np.abs(odat) < missing, odat, float(\"NaN\"))\n",
    "    \n",
    "numobs = len(odat)\n",
    "\n",
    "obarray = np.empty([numobs, 3])\n",
    "\n",
    "obarray[:, 0] = odat\n",
    "obarray[:, 1] = lons\n",
    "obarray[:, 2] = lats\n",
    "\n",
    "\n",
    "# Compute and print some stats for the data\n",
    "# -----------------------------------------\n",
    "stdev = np.nanstd(obarray[:,0])  # Standard deviation\n",
    "omean = np.nanmean(obarray[:, 0]) # Mean of the data\n",
    "datmi = np.nanmin(obarray[:, 0])  # Min of the data\n",
    "datma = np.nanmax(obarray[:, 0])  # Max of the data\n",
    "\n",
    "print(\"Plotted data statistics: \")\n",
    "print(\"Mean: \", omean)\n",
    "print(\"Standard deviation: \", stdev)\n",
    "print(\"Minimum \", datmi)\n",
    "print(\"Maximum: \", datma)"
   ]
  },
  {
   "cell_type": "code",
   "execution_count": null,
   "metadata": {},
   "outputs": [],
   "source": [
    "# Norm for scatter plot\n",
    "# ---------------------\n",
    "norm = None\n",
    "\n",
    "\n",
    "# Min max for colorbar\n",
    "# --------------------\n",
    "if np.nanmin(obarray[:, 0]) < 0:\n",
    "    cmax = datma\n",
    "    cmin = datmi\n",
    "    cmap = 'RdBu'\n",
    "else:\n",
    "    cmax = omean+stdev\n",
    "    cmin = np.maximum(omean-stdev, 0.0)\n",
    "    cmap = 'viridis'\n",
    "\n",
    "if metric == 'PreQC' or metric == 'EffectiveQC':\n",
    "    cmin = datmi\n",
    "    cmax = datma\n",
    "\n",
    "# Specialized colorbar for integers\n",
    "    cmap = plt.cm.jet\n",
    "    cmaplist = [cmap(i) for i in range(cmap.N)]\n",
    "    cmaplist[1] = (.5, .5, .5, 1.0)\n",
    "    cmap = matplotlib.colors.LinearSegmentedColormap.from_list('Custom cmap', cmaplist, cmap.N)\n",
    "    bounds = np.insert(np.linspace(0.5, int(cmax)+0.5, int(cmax)+1), 0, 0)\n",
    "    norm = matplotlib.colors.BoundaryNorm(bounds, cmap.N)\n",
    "\n",
    "# If using omb then use standard deviation for the cmin/cmax\n",
    "if metric=='omb' or metric=='ombg' or metric=='oman':\n",
    "    cmax = stdev\n",
    "    cmin = -stdev\n",
    "\n",
    "# Override with user chosen limits\n",
    "if (colmin!=None):\n",
    "    print(\"Using user provided minimum for colorbar\")\n",
    "    cmin = colmin\n",
    "if (colmax!=None):\n",
    "    print(\"Using user provided maximum for colorbar\")\n",
    "    cmax = colmax"
   ]
  },
  {
   "cell_type": "code",
   "execution_count": null,
   "metadata": {},
   "outputs": [],
   "source": [
    "# Create figure\n",
    "# -------------\n",
    "\n",
    "fig = plt.figure(figsize=(10, 5))\n",
    "\n",
    "# initialize the plot pointing to the projection\n",
    "ax = plt.axes(projection=ccrs.PlateCarree(central_longitude=0))\n",
    "\n",
    "# plot grid lines\n",
    "gl = ax.gridlines(crs=ccrs.PlateCarree(central_longitude=0), draw_labels=True,\n",
    "                      linewidth=1, color='gray', alpha=0.5, linestyle='-')\n",
    "\n",
    "gl.xlabel_style = {'size': 10, 'color': 'black'}\n",
    "gl.ylabel_style = {'size': 10, 'color': 'black'}\n",
    "gl.xlocator = mticker.FixedLocator([-180, -135, -90, -45, 0, 45, 90, 135, 179.9])\n",
    "ax.set_ylabel(\"Latitude\",  fontsize=7)\n",
    "ax.set_xlabel(\"Longitude\", fontsize=7)\n",
    "\n",
    "ax.tick_params(labelbottom=False, labeltop=False, labelleft=False, labelright=False)\n",
    "\n",
    "# scatter data\n",
    "sc = ax.scatter(obarray[:, 1], obarray[:, 2],\n",
    "                c=obarray[:, 0], s=5, linewidth=0,\n",
    "                transform=ccrs.PlateCarree(), cmap=cmap, vmin=cmin, vmax = cmax, norm=norm)\n",
    "\n",
    "# colorbar\n",
    "cbar = plt.colorbar(sc, ax=ax, orientation=\"horizontal\", pad=.1, fraction=0.06,)\n",
    "if not units==None:\n",
    "    cbar.ax.set_ylabel(units, fontsize=10)\n",
    "\n",
    "# plot globally\n",
    "ax.set_global()\n",
    "\n",
    "# draw coastlines\n",
    "ax.coastlines()\n",
    "\n",
    "# figure labels\n",
    "plt.title(\"Observation statistics: \"+field.replace(\"_\",\" \")+\" \"+metric+\" | \"+\n",
    "          window_begin+\" to \"+window_end, y=1.08)\n",
    "ax.text(0.45, -0.1,   'Longitude', transform=ax.transAxes, ha='left')\n",
    "ax.text(-0.08, 0.4, 'Latitude', transform=ax.transAxes, rotation='vertical', va='bottom')\n",
    "\n",
    "plt.show()\n",
    "\n",
    "print(\" Saving figure as\", savename, \"\\n\")\n",
    "plt.savefig(savename, dpi = 400)\n"
   ]
  },
  {
   "cell_type": "code",
   "execution_count": null,
   "metadata": {},
   "outputs": [],
   "source": []
  },
  {
   "cell_type": "code",
   "execution_count": null,
   "metadata": {},
   "outputs": [],
   "source": []
  }
 ],
 "metadata": {
  "interpreter": {
   "hash": "fd9c5b7d088fb326f9746f9473dc7db6d688948435a8f1e482fa53d6c74c9382"
  },
  "kernelspec": {
   "display_name": "Python 3.7.10 ('xr')",
   "language": "python",
   "name": "python3"
  },
  "language_info": {
   "codemirror_mode": {
    "name": "ipython",
    "version": 3
   },
   "file_extension": ".py",
   "mimetype": "text/x-python",
   "name": "python",
   "nbconvert_exporter": "python",
   "pygments_lexer": "ipython3",
   "version": "3.7.10"
  }
 },
 "nbformat": 4,
 "nbformat_minor": 5
}
