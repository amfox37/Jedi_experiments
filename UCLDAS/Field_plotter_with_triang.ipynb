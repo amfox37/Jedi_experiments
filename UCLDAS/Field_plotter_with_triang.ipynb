{
 "cells": [
  {
   "cell_type": "code",
   "execution_count": 36,
   "id": "temporal-permit",
   "metadata": {},
   "outputs": [],
   "source": [
    "import cartopy\n",
    "import cartopy.crs as ccrs\n",
    "import matplotlib.pyplot as plt\n",
    "import netCDF4\n",
    "import numpy as np\n",
    "import os\n",
    "import pandas as pd"
   ]
  },
  {
   "cell_type": "code",
   "execution_count": 37,
   "id": "blocked-penetration",
   "metadata": {},
   "outputs": [],
   "source": [
    "fields_file = '/Users/afox/Jedi/whj/build/wrf_hydro_nwm_jedi/test/Data/wrf_hydro_nwm_files/offline_restart.nc'\n",
    "init_file = '/Users/afox/Jedi/whj/ufs-land_C96_da_init_fields_1hr.nc'"
   ]
  },
  {
   "cell_type": "code",
   "execution_count": 38,
   "id": "former-financing",
   "metadata": {},
   "outputs": [],
   "source": [
    "field_name = \"SNEQV\""
   ]
  },
  {
   "cell_type": "code",
   "execution_count": 39,
   "id": "interested-shaft",
   "metadata": {},
   "outputs": [],
   "source": [
    "model_layer = None"
   ]
  },
  {
   "cell_type": "code",
   "execution_count": 40,
   "id": "robust-paris",
   "metadata": {},
   "outputs": [
    {
     "name": "stdout",
     "output_type": "stream",
     "text": [
      "\n",
      "Opening  /Users/afox/Jedi/whj/ufs-land_C96_da_init_fields_1hr.nc for reading\n"
     ]
    }
   ],
   "source": [
    "# Open the file\n",
    "print('\\nOpening ', init_file, 'for reading')\n",
    "ncfile = netCDF4.Dataset(init_file, mode='r')"
   ]
  },
  {
   "cell_type": "code",
   "execution_count": 41,
   "id": "b2fd3c91",
   "metadata": {},
   "outputs": [
    {
     "data": {
      "text/plain": [
       "(279.858, 260.51947, 49.965862, 30.01692, 19.948942, 19.338531)"
      ]
     },
     "execution_count": 41,
     "metadata": {},
     "output_type": "execute_result"
    }
   ],
   "source": [
    "lons = ncfile.variables[\"longitude\"][:]\n",
    "lats = ncfile.variables[\"latitude\"][:]\n",
    "\n",
    "lonsmax = np.max(lons)\n",
    "lonsmin = np.min(lons)\n",
    "latsmax = np.max(lats)\n",
    "latsmin = np.min(lats)\n",
    "lonsrange = lonsmax-lonsmin\n",
    "latsrange = latsmax-latsmin\n",
    "\n",
    "lonsmax, lonsmin, latsmax, latsmin, latsrange, lonsrange"
   ]
  },
  {
   "cell_type": "code",
   "execution_count": 42,
   "id": "e2300061",
   "metadata": {},
   "outputs": [],
   "source": [
    "yi = np.linspace(30,50,20)\n",
    "xi = np.linspace(260,280,20)"
   ]
  },
  {
   "cell_type": "code",
   "execution_count": 43,
   "id": "robust-paris",
   "metadata": {},
   "outputs": [
    {
     "name": "stdout",
     "output_type": "stream",
     "text": [
      "\n",
      "Opening  /Users/afox/Jedi/whj/build/wrf_hydro_nwm_jedi/test/Data/wrf_hydro_nwm_files/offline_restart.nc for reading\n"
     ]
    }
   ],
   "source": [
    "# Open the file\n",
    "print('\\nOpening ', fields_file, 'for reading')\n",
    "ncfile = netCDF4.Dataset(fields_file, mode='r')"
   ]
  },
  {
   "cell_type": "code",
   "execution_count": 44,
   "id": "broke-grammar",
   "metadata": {},
   "outputs": [],
   "source": [
    "units = \"mm\""
   ]
  },
  {
   "cell_type": "code",
   "execution_count": 45,
   "id": "ongoing-grace",
   "metadata": {},
   "outputs": [],
   "source": [
    "# Zero out array to fill with field\n",
    "field = np.zeros((449, 1))\n",
    "\n",
    "field[:,:] = ncfile.variables[field_name][:,:]"
   ]
  },
  {
   "cell_type": "code",
   "execution_count": 46,
   "id": "aeda4bab",
   "metadata": {},
   "outputs": [],
   "source": [
    "# Interpolate onto grid\n",
    "\n",
    "import matplotlib.tri as tri\n",
    "\n",
    "y = lats\n",
    "x = lons\n",
    "z = field.reshape(449)\n",
    "\n",
    "# from scipy.interpolate import griddata\n",
    "# zi = griddata((x, y), z, (xi[None, :], yi[:, None]), method='linear')\n",
    "\n",
    "triang = tri.Triangulation(x, y)\n",
    "interpolator = tri.LinearTriInterpolator(triang, z)\n",
    "Xi, Yi = np.meshgrid(xi, yi)\n",
    "zi = interpolator(Xi, Yi)\n"
   ]
  },
  {
   "cell_type": "code",
   "execution_count": 47,
   "id": "competent-dairy",
   "metadata": {},
   "outputs": [],
   "source": [
    "# Check if field has positve and negative values\n",
    "# ----------------------------------------------\n",
    "if np.min(zi) < 0:\n",
    "      cmax = np.max(np.abs(zi))\n",
    "      cmin = -cmax\n",
    "      cmap = 'RdBu'\n",
    "else:\n",
    "      cmax = np.max(zi)\n",
    "      cmin = np.min(zi)\n",
    "      cmap = 'nipy_spectral'\n",
    "\n",
    "levels = np.linspace(cmin,cmax,20)\n",
    "\n",
    "cmax, cmin\n",
    "\n",
    "cmap = 'RdBu'\n"
   ]
  },
  {
   "cell_type": "code",
   "execution_count": 48,
   "id": "absolute-approval",
   "metadata": {},
   "outputs": [
    {
     "data": {
      "text/plain": [
       "<matplotlib.colorbar.Colorbar at 0x119337b20>"
      ]
     },
     "execution_count": 48,
     "metadata": {},
     "output_type": "execute_result"
    },
    {
     "data": {
      "image/png": "[encoded data removed]",
      "text/plain": [
       "<Figure size 720x360 with 2 Axes>"
      ]
     },
     "metadata": {
      "needs_background": "light"
     },
     "output_type": "display_data"
    }
   ],
   "source": [
    "# Create two dimensional contour plot of field\n",
    "\n",
    "# Set the projection\n",
    "projection = ccrs.PlateCarree()\n",
    "\n",
    "    # Create figure to hold plot\n",
    "fig = plt.figure(figsize=(10, 5))\n",
    "\n",
    "    # Just one subplot for now\n",
    "ax = fig.add_subplot(1, 1, 1, projection=projection)\n",
    "\n",
    "    # Contour the field\n",
    "im = ax.contourf(xi, yi, zi,\n",
    "                    transform=projection,\n",
    "                     cmap=cmap,\n",
    "                     levels=levels)\n",
    "\n",
    "# Add coast lines to the plot\n",
    "ax.coastlines()\n",
    "#ax.add_feature(cartopy.feature.BORDERS, linestyle=':')\n",
    "ax.add_feature(cartopy.feature.STATES,linewidth=0.5)\n",
    "\n",
    "# Add labels to the plot\n",
    "ax.set_xticks(np.linspace(255-360,285-360, 5), crs=projection)\n",
    "ax.set_yticks(np.linspace(25, 55, 5), crs=projection)\n",
    "\n",
    "ax.set_extent([272.49-360,272.51-360, 48.79, 48.81], crs=projection)\n",
    "\n",
    "ax.set_xlabel('Longitude')\n",
    "ax.set_ylabel('Latitude')\n",
    "#ax.set_title(title)\n",
    "#ax.set_global()\n",
    "\n",
    "# Add a colorbar for the filled contour.\n",
    "fig.colorbar(im)\n",
    "\n",
    "# Show the figure\n",
    "#thisoutfile = \"World_\"+outfile\n",
    "#print(\" Saving figure as\", thisoutfile, \"\\n\")\n",
    "#plt.savefig(thisoutfile, facecolor='w', dpi = 200)"
   ]
  },
  {
   "cell_type": "code",
   "execution_count": 49,
   "id": "6071ca7b",
   "metadata": {},
   "outputs": [
    {
     "data": {
      "text/plain": [
       "(400, 20, 20)"
      ]
     },
     "execution_count": 49,
     "metadata": {},
     "output_type": "execute_result"
    }
   ],
   "source": [
    "zi.size, xi.size, yi.size"
   ]
  },
  {
   "cell_type": "code",
   "execution_count": 51,
   "id": "54fe2e94",
   "metadata": {},
   "outputs": [
    {
     "data": {
      "text/plain": [
       "(array([260.        , 261.05263158, 262.10526316, 263.15789474,\n",
       "        264.21052632, 265.26315789, 266.31578947, 267.36842105,\n",
       "        268.42105263, 269.47368421, 270.52631579, 271.57894737,\n",
       "        272.63157895, 273.68421053, 274.73684211, 275.78947368,\n",
       "        276.84210526, 277.89473684, 278.94736842, 280.        ]),\n",
       " array([30.        , 31.05263158, 32.10526316, 33.15789474, 34.21052632,\n",
       "        35.26315789, 36.31578947, 37.36842105, 38.42105263, 39.47368421,\n",
       "        40.52631579, 41.57894737, 42.63157895, 43.68421053, 44.73684211,\n",
       "        45.78947368, 46.84210526, 47.89473684, 48.94736842, 50.        ]),\n",
       " 16,\n",
       " 19)"
      ]
     },
     "execution_count": 51,
     "metadata": {},
     "output_type": "execute_result"
    }
   ],
   "source": [
    "xi, yi, 16, 19"
   ]
  },
  {
   "cell_type": "code",
   "execution_count": 59,
   "id": "a476a84f",
   "metadata": {},
   "outputs": [
    {
     "data": {
      "text/plain": [
       "338.20151959898976"
      ]
     },
     "execution_count": 59,
     "metadata": {},
     "output_type": "execute_result"
    }
   ],
   "source": [
    "zi[16,17]"
   ]
  }
 ],
 "metadata": {
  "interpreter": {
   "hash": "d45c90d8f20ce6cdf054dfb5caeea148c77812df4d3ca65e46bb153750be4106"
  },
  "kernelspec": {
   "display_name": "Python 3.9.1 64-bit ('jupyterlab': conda)",
   "name": "python3"
  },
  "language_info": {
   "codemirror_mode": {
    "name": "ipython",
    "version": 3
   },
   "file_extension": ".py",
   "mimetype": "text/x-python",
   "name": "python",
   "nbconvert_exporter": "python",
   "pygments_lexer": "ipython3",
   "version": "3.8.10"
  }
 },
 "nbformat": 4,
 "nbformat_minor": 5
}
